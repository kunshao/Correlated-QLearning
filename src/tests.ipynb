{
 "cells": [
  {
   "cell_type": "code",
   "execution_count": 1,
   "metadata": {
    "collapsed": true
   },
   "outputs": [],
   "source": [
    "import sys\n",
    "import matplotlib.pyplot as plt\n",
    "import numpy as np\n",
    "import cvxopt"
   ]
  },
  {
   "cell_type": "markdown",
   "metadata": {},
   "source": [
    "## Friend Q"
   ]
  },
  {
   "cell_type": "code",
   "execution_count": 2,
   "metadata": {},
   "outputs": [
    {
     "data": {
      "text/plain": [
       "(0, 2)"
      ]
     },
     "execution_count": 2,
     "metadata": {},
     "output_type": "execute_result"
    }
   ],
   "source": [
    "arr = np.array([[2,6,8],\n",
    "         [-1,5,4]])\n",
    "argmax = np.argmax(arr)\n",
    "(argmax // arr.shape[1], argmax % arr.shape[1])"
   ]
  },
  {
   "cell_type": "code",
   "execution_count": 3,
   "metadata": {},
   "outputs": [
    {
     "data": {
      "text/plain": [
       "array([ 0.1       ,  0.23333333,  0.3       ,  0.        ,  0.2       ,\n",
       "        0.16666667])"
      ]
     },
     "execution_count": 3,
     "metadata": {},
     "output_type": "execute_result"
    }
   ],
   "source": [
    "p = arr - np.min(arr)\n",
    "p = p / np.sum(p)\n",
    "p = p.flatten()\n",
    "p"
   ]
  },
  {
   "cell_type": "code",
   "execution_count": 4,
   "metadata": {},
   "outputs": [
    {
     "data": {
      "text/plain": [
       "2"
      ]
     },
     "execution_count": 4,
     "metadata": {},
     "output_type": "execute_result"
    }
   ],
   "source": [
    "a = np.random.choice(len(p), p=p)\n",
    "a"
   ]
  },
  {
   "cell_type": "markdown",
   "metadata": {},
   "source": [
    "## Foe Q"
   ]
  },
  {
   "cell_type": "code",
   "execution_count": 5,
   "metadata": {
    "collapsed": true
   },
   "outputs": [],
   "source": [
    "arr = np.array([[20,-10,5],\n",
    "                [5,10,-10],\n",
    "                [-5, 0,10]])\n",
    "NACTIONS = arr.shape[0]"
   ]
  },
  {
   "cell_type": "code",
   "execution_count": 6,
   "metadata": {},
   "outputs": [
    {
     "data": {
      "text/plain": [
       "array([[-0., -1., -0., -0.],\n",
       "       [-0., -0., -1., -0.],\n",
       "       [-0., -0., -0., -1.]])"
      ]
     },
     "execution_count": 6,
     "metadata": {},
     "output_type": "execute_result"
    }
   ],
   "source": [
    "G = np.identity(NACTIONS + 1)[1:,:]\n",
    "G = G * -1\n",
    "G"
   ]
  },
  {
   "cell_type": "code",
   "execution_count": 7,
   "metadata": {},
   "outputs": [
    {
     "data": {
      "text/plain": [
       "array([[ -0.,  -1.,  -0.,  -0.],\n",
       "       [ -0.,  -0.,  -1.,  -0.],\n",
       "       [ -0.,  -0.,  -0.,  -1.],\n",
       "       [  1., -20.,  -5.,   5.],\n",
       "       [  1.,  10., -10.,   0.],\n",
       "       [  1.,  -5.,  10., -10.]])"
      ]
     },
     "execution_count": 7,
     "metadata": {},
     "output_type": "execute_result"
    }
   ],
   "source": [
    "G = np.append(G, np.insert(arr.T, 0, -1, axis=1)*-1, axis=0)\n",
    "G"
   ]
  },
  {
   "cell_type": "code",
   "execution_count": 8,
   "metadata": {},
   "outputs": [
    {
     "data": {
      "text/plain": [
       "array([[ -0.,  -0.,  -0.,   1.,   1.,   1.],\n",
       "       [ -1.,  -0.,  -0., -20.,  10.,  -5.],\n",
       "       [ -0.,  -1.,  -0.,  -5., -10.,  10.],\n",
       "       [ -0.,  -0.,  -1.,   5.,   0., -10.]])"
      ]
     },
     "execution_count": 8,
     "metadata": {},
     "output_type": "execute_result"
    }
   ],
   "source": [
    "G = G.T\n",
    "G"
   ]
  },
  {
   "cell_type": "code",
   "execution_count": 9,
   "metadata": {},
   "outputs": [
    {
     "data": {
      "text/plain": [
       "array([ 0.,  0.,  0.,  0.,  0.,  0.])"
      ]
     },
     "execution_count": 9,
     "metadata": {},
     "output_type": "execute_result"
    }
   ],
   "source": [
    "h = np.zeros(G.shape[1])\n",
    "h"
   ]
  },
  {
   "cell_type": "code",
   "execution_count": 10,
   "metadata": {},
   "outputs": [
    {
     "data": {
      "text/plain": [
       "array([-1.,  0.,  0.,  0.])"
      ]
     },
     "execution_count": 10,
     "metadata": {},
     "output_type": "execute_result"
    }
   ],
   "source": [
    "c = np.zeros(G.shape[0])\n",
    "c[0] = -1\n",
    "c"
   ]
  },
  {
   "cell_type": "code",
   "execution_count": 11,
   "metadata": {},
   "outputs": [
    {
     "data": {
      "text/plain": [
       "array([[ 0.],\n",
       "       [ 1.],\n",
       "       [ 1.],\n",
       "       [ 1.]])"
      ]
     },
     "execution_count": 11,
     "metadata": {},
     "output_type": "execute_result"
    }
   ],
   "source": [
    "A = np.ones((G.shape[0],1))\n",
    "A[0,0] = 0\n",
    "A"
   ]
  },
  {
   "cell_type": "code",
   "execution_count": 12,
   "metadata": {
    "collapsed": true
   },
   "outputs": [],
   "source": [
    "b = [[1.]]"
   ]
  },
  {
   "cell_type": "code",
   "execution_count": 13,
   "metadata": {},
   "outputs": [],
   "source": [
    "G = cvxopt.matrix(G.tolist())\n",
    "h = cvxopt.matrix(h.tolist())\n",
    "c = cvxopt.matrix(c.tolist())\n",
    "A = cvxopt.matrix(A.tolist())\n",
    "b = cvxopt.matrix(b)"
   ]
  },
  {
   "cell_type": "code",
   "execution_count": 14,
   "metadata": {},
   "outputs": [
    {
     "name": "stdout",
     "output_type": "stream",
     "text": [
      "objective = -2.1428571428571432\n",
      "x = [ 2.14e+00]\n",
      "[ 1.43e-01]\n",
      "[ 3.57e-01]\n",
      "[ 5.00e-01]\n",
      "\n"
     ]
    }
   ],
   "source": [
    "solution = cvxopt.solvers.lp(c, G, h, A, b, solver='glpk')\n",
    "print(\"objective = {}\".format(solution['primal objective']))\n",
    "print(\"x = {}\".format(solution['x']))"
   ]
  },
  {
   "cell_type": "code",
   "execution_count": 15,
   "metadata": {},
   "outputs": [
    {
     "data": {
      "text/plain": [
       "[0.14285714285714288, 0.3571428571428572, 0.5000000000000001]"
      ]
     },
     "execution_count": 15,
     "metadata": {},
     "output_type": "execute_result"
    }
   ],
   "source": [
    "list(solution['x'])[1:]"
   ]
  },
  {
   "cell_type": "markdown",
   "metadata": {},
   "source": [
    "## Matrix mult"
   ]
  },
  {
   "cell_type": "code",
   "execution_count": 16,
   "metadata": {
    "collapsed": true
   },
   "outputs": [],
   "source": [
    "arr = np.array([[20,-10,5],\n",
    "                [5,10,-10],\n",
    "                [-5, 0,10]])\n",
    "p = [0.3, 0.2, 0.5]"
   ]
  },
  {
   "cell_type": "code",
   "execution_count": 17,
   "metadata": {},
   "outputs": [
    {
     "data": {
      "text/plain": [
       "array([[ 6. , -3. ,  1.5],\n",
       "       [ 1. ,  2. , -2. ],\n",
       "       [-2.5,  0. ,  5. ]])"
      ]
     },
     "execution_count": 17,
     "metadata": {},
     "output_type": "execute_result"
    }
   ],
   "source": [
    "w = (arr.T * p).T\n",
    "w"
   ]
  },
  {
   "cell_type": "code",
   "execution_count": 18,
   "metadata": {},
   "outputs": [
    {
     "data": {
      "text/plain": [
       "array([ 4.5, -1. ,  4.5])"
      ]
     },
     "execution_count": 18,
     "metadata": {},
     "output_type": "execute_result"
    }
   ],
   "source": [
    "sw = np.sum(w, axis=0)\n",
    "sw"
   ]
  },
  {
   "cell_type": "code",
   "execution_count": 19,
   "metadata": {},
   "outputs": [
    {
     "data": {
      "text/plain": [
       "-1.0"
      ]
     },
     "execution_count": 19,
     "metadata": {},
     "output_type": "execute_result"
    }
   ],
   "source": [
    "np.min(sw)"
   ]
  },
  {
   "cell_type": "markdown",
   "metadata": {},
   "source": [
    "## Env test"
   ]
  },
  {
   "cell_type": "code",
   "execution_count": 20,
   "metadata": {
    "collapsed": true
   },
   "outputs": [],
   "source": [
    "from envs import Soccer"
   ]
  },
  {
   "cell_type": "code",
   "execution_count": 21,
   "metadata": {
    "collapsed": true
   },
   "outputs": [],
   "source": [
    "env = Soccer(debug=True)"
   ]
  },
  {
   "cell_type": "code",
   "execution_count": 22,
   "metadata": {},
   "outputs": [],
   "source": [
    "env.reset()"
   ]
  },
  {
   "cell_type": "code",
   "execution_count": 23,
   "metadata": {},
   "outputs": [
    {
     "name": "stdout",
     "output_type": "stream",
     "text": [
      "0 :  [3, 2]\n",
      "#Ba#\n",
      "####\n"
     ]
    },
    {
     "data": {
      "text/plain": [
       "#Ba#\n",
       "####"
      ]
     },
     "execution_count": 23,
     "metadata": {},
     "output_type": "execute_result"
    }
   ],
   "source": [
    "env.step([3,2])"
   ]
  },
  {
   "cell_type": "markdown",
   "metadata": {},
   "source": [
    "## CE LP"
   ]
  },
  {
   "cell_type": "code",
   "execution_count": 24,
   "metadata": {
    "collapsed": true
   },
   "outputs": [],
   "source": [
    "Qs = [np.array([[6.,2.],\n",
    "                [7.,0.]]),\n",
    "      np.array([[6.,7.],\n",
    "                [2.,0.]])\n",
    "     ]\n",
    "NACTIONS = 2"
   ]
  },
  {
   "cell_type": "code",
   "execution_count": 25,
   "metadata": {},
   "outputs": [
    {
     "data": {
      "text/plain": [
       "array([[-1., -0., -0., -0.],\n",
       "       [-0., -1., -0., -0.],\n",
       "       [-0., -0., -1., -0.],\n",
       "       [-0., -0., -0., -1.]])"
      ]
     },
     "execution_count": 25,
     "metadata": {},
     "output_type": "execute_result"
    }
   ],
   "source": [
    "G = np.identity(NACTIONS*NACTIONS)\n",
    "G = G * -1\n",
    "G"
   ]
  },
  {
   "cell_type": "markdown",
   "metadata": {},
   "source": [
    "### constraints for row player"
   ]
  },
  {
   "cell_type": "code",
   "execution_count": 26,
   "metadata": {},
   "outputs": [],
   "source": [
    "arr = Qs[0].copy()\n",
    "for p in range(NACTIONS):  # primal action row\n",
    "    for s in range(NACTIONS):  # secondary other choice row\n",
    "        if p != s:\n",
    "            diff = arr[p] - arr[s]\n",
    "            constr = np.zeros(NACTIONS*NACTIONS)\n",
    "            for c in range(diff.shape[0]):\n",
    "                constr[p * NACTIONS + c] = diff[c]\n",
    "            constr = constr * -1\n",
    "            constr = np.array([constr])\n",
    "            G = np.append(G, constr, axis=0)"
   ]
  },
  {
   "cell_type": "markdown",
   "metadata": {},
   "source": [
    "### constraints for column player"
   ]
  },
  {
   "cell_type": "code",
   "execution_count": 27,
   "metadata": {},
   "outputs": [
    {
     "data": {
      "text/plain": [
       "array([[-1., -0., -0., -0.],\n",
       "       [-0., -1., -0., -0.],\n",
       "       [-0., -0., -1., -0.],\n",
       "       [-0., -0., -0., -1.],\n",
       "       [ 1., -2., -0., -0.],\n",
       "       [-0., -0., -1.,  2.],\n",
       "       [ 1., -0., -2., -0.],\n",
       "       [-0., -1., -0.,  2.]])"
      ]
     },
     "execution_count": 27,
     "metadata": {},
     "output_type": "execute_result"
    }
   ],
   "source": [
    "arr = Qs[1].T.copy()\n",
    "for p in range(NACTIONS):  # primal action row\n",
    "    for s in range(NACTIONS):  # secondary other choice row\n",
    "        if p != s:\n",
    "            diff = arr[p] - arr[s]\n",
    "            constr = np.zeros(NACTIONS*NACTIONS)\n",
    "            for c in range(diff.shape[0]):\n",
    "                constr[c * NACTIONS + p] = diff[c]\n",
    "            constr = constr * -1\n",
    "            constr = np.array([constr])\n",
    "            G = np.append(G, constr, axis=0)\n",
    "G"
   ]
  },
  {
   "cell_type": "code",
   "execution_count": 28,
   "metadata": {},
   "outputs": [
    {
     "data": {
      "text/plain": [
       "array([[-1., -0., -0., -0.,  1., -0.,  1., -0.],\n",
       "       [-0., -1., -0., -0., -2., -0., -0., -1.],\n",
       "       [-0., -0., -1., -0., -0., -1., -2., -0.],\n",
       "       [-0., -0., -0., -1., -0.,  2., -0.,  2.]])"
      ]
     },
     "execution_count": 28,
     "metadata": {},
     "output_type": "execute_result"
    }
   ],
   "source": [
    "G = G.T\n",
    "G"
   ]
  },
  {
   "cell_type": "code",
   "execution_count": 29,
   "metadata": {},
   "outputs": [
    {
     "data": {
      "text/plain": [
       "array([ 0.,  0.,  0.,  0.,  0.,  0.,  0.,  0.])"
      ]
     },
     "execution_count": 29,
     "metadata": {},
     "output_type": "execute_result"
    }
   ],
   "source": [
    "h = np.zeros(G.shape[1])\n",
    "h"
   ]
  },
  {
   "cell_type": "code",
   "execution_count": 30,
   "metadata": {},
   "outputs": [
    {
     "data": {
      "text/plain": [
       "[-12.0, -9.0, -9.0, -0.0]"
      ]
     },
     "execution_count": 30,
     "metadata": {},
     "output_type": "execute_result"
    }
   ],
   "source": [
    "c = Qs[0].flatten() + Qs[1].flatten()\n",
    "c = c * -1\n",
    "c.tolist()"
   ]
  },
  {
   "cell_type": "code",
   "execution_count": 31,
   "metadata": {},
   "outputs": [
    {
     "data": {
      "text/plain": [
       "array([[ 1.],\n",
       "       [ 1.],\n",
       "       [ 1.],\n",
       "       [ 1.]])"
      ]
     },
     "execution_count": 31,
     "metadata": {},
     "output_type": "execute_result"
    }
   ],
   "source": [
    "A = np.ones((G.shape[0],1))\n",
    "A"
   ]
  },
  {
   "cell_type": "code",
   "execution_count": 32,
   "metadata": {
    "collapsed": true
   },
   "outputs": [],
   "source": [
    "b = [[1.]]"
   ]
  },
  {
   "cell_type": "code",
   "execution_count": 33,
   "metadata": {},
   "outputs": [],
   "source": [
    "G = cvxopt.matrix(G.tolist())\n",
    "h = cvxopt.matrix(h.tolist())\n",
    "c = cvxopt.matrix(c.tolist())\n",
    "A = cvxopt.matrix(A.tolist())\n",
    "b = cvxopt.matrix(b)"
   ]
  },
  {
   "cell_type": "code",
   "execution_count": 34,
   "metadata": {},
   "outputs": [
    {
     "name": "stdout",
     "output_type": "stream",
     "text": [
      "objective = -10.5\n",
      "x = [ 5.00e-01]\n",
      "[ 2.50e-01]\n",
      "[ 2.50e-01]\n",
      "[ 0.00e+00]\n",
      "\n"
     ]
    }
   ],
   "source": [
    "solution = cvxopt.solvers.lp(c, G, h, A, b, solver='glpk')\n",
    "print(\"objective = {}\".format(solution['primal objective']))\n",
    "print(\"x = {}\".format(solution['x']))"
   ]
  },
  {
   "cell_type": "code",
   "execution_count": 35,
   "metadata": {},
   "outputs": [
    {
     "data": {
      "text/plain": [
       "array([[ 0.5 ,  0.25],\n",
       "       [ 0.25,  0.  ]])"
      ]
     },
     "execution_count": 35,
     "metadata": {},
     "output_type": "execute_result"
    }
   ],
   "source": [
    "p = list(solution['x'])\n",
    "p = np.array(p)\n",
    "p = np.reshape(p, (NACTIONS, NACTIONS))\n",
    "p"
   ]
  },
  {
   "cell_type": "code",
   "execution_count": 36,
   "metadata": {},
   "outputs": [
    {
     "data": {
      "text/plain": [
       "-10.5"
      ]
     },
     "execution_count": 36,
     "metadata": {},
     "output_type": "execute_result"
    }
   ],
   "source": [
    "solution['primal objective']"
   ]
  },
  {
   "cell_type": "code",
   "execution_count": null,
   "metadata": {
    "collapsed": true
   },
   "outputs": [],
   "source": []
  }
 ],
 "metadata": {
  "kernelspec": {
   "display_name": "Python [conda env:rl]",
   "language": "python",
   "name": "conda-env-rl-py"
  },
  "language_info": {
   "codemirror_mode": {
    "name": "ipython",
    "version": 3
   },
   "file_extension": ".py",
   "mimetype": "text/x-python",
   "name": "python",
   "nbconvert_exporter": "python",
   "pygments_lexer": "ipython3",
   "version": "3.6.2"
  }
 },
 "nbformat": 4,
 "nbformat_minor": 2
}
