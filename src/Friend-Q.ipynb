{
 "cells": [
  {
   "cell_type": "code",
   "execution_count": 1,
   "metadata": {
    "collapsed": true
   },
   "outputs": [],
   "source": [
    "import sys\n",
    "import matplotlib.pyplot as plt\n",
    "import numpy as np\n",
    "from envs import Soccer\n",
    "from learners import FriendQ"
   ]
  },
  {
   "cell_type": "code",
   "execution_count": 2,
   "metadata": {},
   "outputs": [],
   "source": [
    "TIME_LIMIT = 1000000"
   ]
  },
  {
   "cell_type": "code",
   "execution_count": 3,
   "metadata": {
    "collapsed": true
   },
   "outputs": [],
   "source": [
    "env = Soccer(debug=False)"
   ]
  },
  {
   "cell_type": "code",
   "execution_count": 4,
   "metadata": {
    "collapsed": true
   },
   "outputs": [],
   "source": [
    "learner = FriendQ(env)"
   ]
  },
  {
   "cell_type": "code",
   "execution_count": 5,
   "metadata": {},
   "outputs": [
    {
     "name": "stdout",
     "output_type": "stream",
     "text": [
      "999900"
     ]
    }
   ],
   "source": [
    "q_values = []\n",
    "lr_values = []\n",
    "for t in range(TIME_LIMIT):\n",
    "    if t % 100 == 0:\n",
    "        sys.stdout.write('\\r'+str(t))\n",
    "        q = learner.Qs[0][71, 1, 4]\n",
    "        q_values.append(q)\n",
    "        \n",
    "        lr_values.append(learner.get_lr())\n",
    "    learner.train()\n",
    "    "
   ]
  },
  {
   "cell_type": "code",
   "execution_count": 6,
   "metadata": {
    "collapsed": true
   },
   "outputs": [],
   "source": [
    "q_values = np.array(q_values)\n",
    "errs = np.abs(q_values[1:] - q_values[:-1])"
   ]
  },
  {
   "cell_type": "code",
   "execution_count": 7,
   "metadata": {},
   "outputs": [
    {
     "data": {
      "image/png": "[encoded data removed]",
      "text/plain": [
       "<matplotlib.figure.Figure at 0x10c79a2e8>"
      ]
     },
     "metadata": {},
     "output_type": "display_data"
    }
   ],
   "source": [
    "plt.plot(range(100,TIME_LIMIT,100), errs)\n",
    "plt.show()"
   ]
  },
  {
   "cell_type": "code",
   "execution_count": 8,
   "metadata": {},
   "outputs": [
    {
     "data": {
      "text/plain": [
       "array([  2.00615625e+00,   5.87531757e-01,   1.87860577e+00, ...,\n",
       "         2.93545290e-05,   0.00000000e+00,   2.92962734e-05])"
      ]
     },
     "execution_count": 8,
     "metadata": {},
     "output_type": "execute_result"
    }
   ],
   "source": [
    "errs"
   ]
  },
  {
   "cell_type": "code",
   "execution_count": 9,
   "metadata": {},
   "outputs": [
    {
     "name": "stdout",
     "output_type": "stream",
     "text": [
      "94.66,\t91.12,\t90.21,\t104.56,\t94.66\n",
      "92.93,\t90.24,\t85.14,\t104.65,\t92.93\n",
      "93.09,\t90.48,\t-11.36,\t102.47,\t93.09\n",
      "94.66,\t91.86,\t92.47,\t105.18,\t94.66\n",
      "94.66,\t91.12,\t90.21,\t104.47,\t94.66\n",
      "\n",
      "\n",
      "90.75,\t86.3,\t93.76,\t-94.96,\t90.75\n",
      "85.83,\t89.76,\t92.14,\t-92.88,\t85.83\n",
      "86.22,\t85.97,\t101.02,\t-91.65,\t86.22\n",
      "90.75,\t86.3,\t92.23,\t-95.02,\t90.75\n",
      "90.76,\t86.3,\t93.76,\t-94.88,\t90.75\n"
     ]
    }
   ],
   "source": [
    "for row in learner.Qs[0][71].tolist():\n",
    "    print(',\\t'.join([str(round(col,2)) for col in row]))\n",
    "    print\n",
    "\n",
    "print('\\n')\n",
    "\n",
    "for row in learner.Qs[1][71].tolist():\n",
    "    print(',\\t'.join([str(round(col,2)) for col in row]))\n",
    "    print"
   ]
  },
  {
   "cell_type": "code",
   "execution_count": 13,
   "metadata": {},
   "outputs": [
    {
     "data": {
      "text/html": [
       "<div>\n",
       "<style>\n",
       "    .dataframe thead tr:only-child th {\n",
       "        text-align: right;\n",
       "    }\n",
       "\n",
       "    .dataframe thead th {\n",
       "        text-align: left;\n",
       "    }\n",
       "\n",
       "    .dataframe tbody tr th {\n",
       "        vertical-align: top;\n",
       "    }\n",
       "</style>\n",
       "<table border=\"1\" class=\"dataframe\">\n",
       "  <thead>\n",
       "    <tr style=\"text-align: right;\">\n",
       "      <th></th>\n",
       "      <th>Err</th>\n",
       "      <th>t</th>\n",
       "    </tr>\n",
       "  </thead>\n",
       "  <tbody>\n",
       "    <tr>\n",
       "      <th>0</th>\n",
       "      <td>2.006156</td>\n",
       "      <td>0</td>\n",
       "    </tr>\n",
       "    <tr>\n",
       "      <th>1</th>\n",
       "      <td>0.587532</td>\n",
       "      <td>100</td>\n",
       "    </tr>\n",
       "    <tr>\n",
       "      <th>2</th>\n",
       "      <td>1.878606</td>\n",
       "      <td>200</td>\n",
       "    </tr>\n",
       "    <tr>\n",
       "      <th>5</th>\n",
       "      <td>5.771780</td>\n",
       "      <td>500</td>\n",
       "    </tr>\n",
       "    <tr>\n",
       "      <th>6</th>\n",
       "      <td>6.319962</td>\n",
       "      <td>600</td>\n",
       "    </tr>\n",
       "  </tbody>\n",
       "</table>\n",
       "</div>"
      ],
      "text/plain": [
       "        Err    t\n",
       "0  2.006156    0\n",
       "1  0.587532  100\n",
       "2  1.878606  200\n",
       "5  5.771780  500\n",
       "6  6.319962  600"
      ]
     },
     "execution_count": 13,
     "metadata": {},
     "output_type": "execute_result"
    }
   ],
   "source": [
    "import pandas as pd\n",
    "df = pd.DataFrame({'t': range(len(errs)),\n",
    "                   \"Err\": errs\n",
    "                  })\n",
    "df = df[df['Err']>0]\n",
    "df['t'] = df['t'] * 100\n",
    "df.head()"
   ]
  },
  {
   "cell_type": "code",
   "execution_count": 14,
   "metadata": {},
   "outputs": [
    {
     "data": {
      "image/png": "[encoded data removed]",
      "text/plain": [
       "<matplotlib.figure.Figure at 0x11b5466d8>"
      ]
     },
     "metadata": {},
     "output_type": "display_data"
    }
   ],
   "source": [
    "ax = df.plot(x='t', y='Err', figsize=(10, 7), legend=False, ylim=(0., 1.5), title='Friend-Q')\n",
    "ax.set_xlabel(\"time\")\n",
    "ax.set_ylabel(\"Error\")\n",
    "plt.show()"
   ]
  },
  {
   "cell_type": "code",
   "execution_count": null,
   "metadata": {
    "collapsed": true
   },
   "outputs": [],
   "source": []
  }
 ],
 "metadata": {
  "kernelspec": {
   "display_name": "Python [conda env:rl]",
   "language": "python",
   "name": "conda-env-rl-py"
  },
  "language_info": {
   "codemirror_mode": {
    "name": "ipython",
    "version": 3
   },
   "file_extension": ".py",
   "mimetype": "text/x-python",
   "name": "python",
   "nbconvert_exporter": "python",
   "pygments_lexer": "ipython3",
   "version": "3.6.2"
  }
 },
 "nbformat": 4,
 "nbformat_minor": 2
}
