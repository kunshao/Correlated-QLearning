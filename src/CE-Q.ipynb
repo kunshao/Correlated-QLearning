{
 "cells": [
  {
   "cell_type": "code",
   "execution_count": null,
   "metadata": {
    "collapsed": true
   },
   "outputs": [],
   "source": [
    "import sys\n",
    "import matplotlib.pyplot as plt\n",
    "import numpy as np\n",
    "import pandas as pd\n",
    "from envs import Soccer\n",
    "from learners import CEQ"
   ]
  },
  {
   "cell_type": "code",
   "execution_count": null,
   "metadata": {
    "collapsed": true
   },
   "outputs": [],
   "source": [
    "TIME_LIMIT = 100000"
   ]
  },
  {
   "cell_type": "code",
   "execution_count": null,
   "metadata": {
    "collapsed": true
   },
   "outputs": [],
   "source": [
    "env = Soccer(debug=False)"
   ]
  },
  {
   "cell_type": "code",
   "execution_count": null,
   "metadata": {
    "collapsed": true
   },
   "outputs": [],
   "source": [
    "learner = CEQ(env, solver=None)"
   ]
  },
  {
   "cell_type": "code",
   "execution_count": null,
   "metadata": {},
   "outputs": [],
   "source": [
    "q_values = []\n",
    "q_values2 = []\n",
    "q_values3 = []\n",
    "q_values4 = []\n",
    "\n",
    "for t in range(TIME_LIMIT):\n",
    "    if t % 100 == 0:\n",
    "        sys.stdout.write('\\r'+str(t))\n",
    "        q_values.append(learner.Qs[0][71, 1, 4])\n",
    "        q_values2.append(learner.Qs[0][71, 1, 0])\n",
    "        q_values3.append(learner.Qs[1][71, 4, 1])\n",
    "        q_values4.append(learner.Qs[1][71, 0, 1])\n",
    "\n",
    "    learner.train()"
   ]
  },
  {
   "cell_type": "code",
   "execution_count": null,
   "metadata": {},
   "outputs": [],
   "source": [
    "for t in range(0):\n",
    "    if t % 100 == 0:\n",
    "        sys.stdout.write('\\r'+str(t))\n",
    "        q_values.append(learner.Qs[0][71, 1, 4])\n",
    "        q_values2.append(learner.Qs[0][71, 1, 0])\n",
    "        q_values3.append(learner.Qs[1][71, 4, 1])\n",
    "        q_values4.append(learner.Qs[1][71, 0, 1])\n",
    "\n",
    "    learner.train()"
   ]
  },
  {
   "cell_type": "code",
   "execution_count": null,
   "metadata": {
    "collapsed": true
   },
   "outputs": [],
   "source": [
    "nq_values = np.array(q_values)\n",
    "errs = np.abs(nq_values[1:] - nq_values[:-1])"
   ]
  },
  {
   "cell_type": "code",
   "execution_count": null,
   "metadata": {},
   "outputs": [],
   "source": [
    "plt.plot(errs)\n",
    "plt.show()"
   ]
  },
  {
   "cell_type": "code",
   "execution_count": null,
   "metadata": {
    "collapsed": true
   },
   "outputs": [],
   "source": [
    "nq_values2 = np.array(q_values2)\n",
    "errs = np.abs(nq_values2[1:] - nq_values2[:-1])"
   ]
  },
  {
   "cell_type": "code",
   "execution_count": null,
   "metadata": {},
   "outputs": [],
   "source": [
    "plt.plot(errs)\n",
    "plt.show()"
   ]
  },
  {
   "cell_type": "code",
   "execution_count": null,
   "metadata": {
    "collapsed": true
   },
   "outputs": [],
   "source": [
    "nq_values3 = np.array(q_values3)\n",
    "errs = np.abs(nq_values3[1:] - nq_values3[:-1])"
   ]
  },
  {
   "cell_type": "code",
   "execution_count": null,
   "metadata": {
    "scrolled": true
   },
   "outputs": [],
   "source": [
    "plt.plot(errs)\n",
    "plt.show()"
   ]
  },
  {
   "cell_type": "code",
   "execution_count": null,
   "metadata": {
    "collapsed": true
   },
   "outputs": [],
   "source": [
    "nq_values4 = np.array(q_values4)\n",
    "errs = np.abs(nq_values4[1:] - nq_values4[:-1])"
   ]
  },
  {
   "cell_type": "code",
   "execution_count": null,
   "metadata": {},
   "outputs": [],
   "source": [
    "plt.plot(errs)\n",
    "plt.show()"
   ]
  },
  {
   "cell_type": "code",
   "execution_count": null,
   "metadata": {},
   "outputs": [],
   "source": [
    "for row in learner.Qs[0][71].tolist():\n",
    "    print(',\\t'.join([str(round(col,2)) for col in row]))\n",
    "    print\n",
    "\n",
    "print('\\n')\n",
    "\n",
    "for row in learner.Qs[1][71].T.tolist():\n",
    "    print(',\\t'.join([str(round(col,2)) for col in row]))\n",
    "    print"
   ]
  },
  {
   "cell_type": "code",
   "execution_count": null,
   "metadata": {},
   "outputs": [],
   "source": [
    "arr = learner.Qs[0][71]\n",
    "p, v = learner.ce(71)\n",
    "p"
   ]
  },
  {
   "cell_type": "code",
   "execution_count": null,
   "metadata": {},
   "outputs": [],
   "source": [
    "df = pd.DataFrame({'t': range(len(errs)),\n",
    "                   \"Err\": errs\n",
    "                  })\n",
    "df = df[df['Err']>0]\n",
    "df.head()"
   ]
  },
  {
   "cell_type": "code",
   "execution_count": null,
   "metadata": {},
   "outputs": [],
   "source": [
    "df.plot(x='t', y='Err')\n",
    "plt.show()"
   ]
  },
  {
   "cell_type": "code",
   "execution_count": null,
   "metadata": {
    "collapsed": true
   },
   "outputs": [],
   "source": [
    "df['t'] = df['t']*100"
   ]
  },
  {
   "cell_type": "code",
   "execution_count": null,
   "metadata": {
    "collapsed": true
   },
   "outputs": [],
   "source": [
    "ax = df.plot(x='t', y='Err', figsize=(10, 7), legend=False, ylim=(0., 1.5), title='CE-Q')\n",
    "ax.set_xlabel(\"time\")\n",
    "ax.set_ylabel(\"Error\")\n",
    "plt.show()"
   ]
  }
 ],
 "metadata": {
  "kernelspec": {
   "display_name": "Python [conda env:rl]",
   "language": "python",
   "name": "conda-env-rl-py"
  },
  "language_info": {
   "codemirror_mode": {
    "name": "ipython",
    "version": 3
   },
   "file_extension": ".py",
   "mimetype": "text/x-python",
   "name": "python",
   "nbconvert_exporter": "python",
   "pygments_lexer": "ipython3",
   "version": "3.6.2"
  }
 },
 "nbformat": 4,
 "nbformat_minor": 2
}
